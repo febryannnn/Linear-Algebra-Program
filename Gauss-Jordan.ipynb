{
 "cells": [
  {
   "cell_type": "markdown",
   "id": "3fecd33c",
   "metadata": {},
   "source": [
    "### Gauss-Jordan SPL 3 Variabel (x,y,z)"
   ]
  },
  {
   "cell_type": "code",
   "execution_count": null,
   "id": "dfa13124",
   "metadata": {},
   "outputs": [],
   "source": [
    "import numpy as np\n",
    "import re\n",
    "from sympy import symbols, Eq, sympify\n",
    "\n",
    "def parse_equations(equations):\n",
    "    variables = set(re.findall(r'[a-zA-Z]', ' '.join(equations)))\n",
    "    variables = sorted(variables)\n",
    "    symbols_dict = {var: symbols(var) for var in variables}\n",
    "    symbol_list = [symbols_dict[var] for var in variables]\n",
    "    coefficients = []\n",
    "    constants = []\n",
    "\n",
    "    for eq in equations:\n",
    "        lhs, rhs = eq.split('=')\n",
    "        lhs = sympify(lhs.strip(), locals=symbols_dict)\n",
    "        rhs = sympify(rhs.strip(), locals=symbols_dict)\n",
    "        equation = Eq(lhs, rhs)\n",
    "\n",
    "        coeff_row = [float(lhs.coeff(var).evalf()) for var in symbol_list]\n",
    "        coefficients.append(coeff_row)\n",
    "\n",
    "        constant = (rhs - lhs.subs({var: 0 for var in symbol_list})).evalf()\n",
    "        constants.append(float(constant))\n",
    "\n",
    "    A = np.array(coefficients, dtype=float)\n",
    "    B = np.array(constants, dtype=float).flatten()\n",
    "\n",
    "    return A, B"
   ]
  },
  {
   "cell_type": "markdown",
   "id": "2f5fc8ad",
   "metadata": {},
   "source": [
    "#### Input Equation"
   ]
  },
  {
   "cell_type": "code",
   "execution_count": null,
   "id": "735bb5ef",
   "metadata": {},
   "outputs": [],
   "source": [
    "equations = [\n",
    "    \"2*x + 3*y - 1*z = -14\",\n",
    "    \"1*x - 1*y - 2*z = -6\",\n",
    "    \"-2*x + 1*y + 2*z = 4\",\n",
    "]\n",
    "\n",
    "A, B = parse_equations(equations)\n",
    "\n",
    "print(\"Matriks Koefisien (A):\")\n",
    "print(A)\n",
    "print(\"\\nMatriks Konstanta (B):\")\n",
    "print(B)\n",
    "\n",
    "matriks = np.hstack((A, B.reshape(-1, 1)))\n",
    "matriks = matriks.astype(np.float64)\n",
    "print(\"\\nMatriks Augmentasi:\")\n",
    "print(matriks)"
   ]
  },
  {
   "cell_type": "markdown",
   "id": "f860bdc4",
   "metadata": {},
   "source": [
    "#### Cara Manual (per iterasi)"
   ]
  },
  {
   "cell_type": "code",
   "execution_count": null,
   "id": "e0ba5706",
   "metadata": {},
   "outputs": [],
   "source": [
    "def print_iterasi(i, matriks):\n",
    "    print(f\"Iterasi {i}:\\n\")\n",
    "    print(matriks)\n",
    "    print(\"\\n\")\n",
    "    \n",
    "i = 0\n",
    "satu_utama_0 = False\n",
    "satu_utama_1 = False\n",
    "satu_utama_2 = False\n",
    "\n",
    "if matriks[0,0] != 0:\n",
    "    matriks[0,:] = np.round(matriks[0,:] * (1/matriks[0,0]), decimals=2)\n",
    "    i += 1\n",
    "    satu_utama_0 = True\n",
    "    print_iterasi(i, matriks)\n",
    "\n",
    "if matriks[1,0] != 0 and satu_utama_0:\n",
    "    matriks[1,:] = np.round(matriks[0,:] * (-matriks[1,0]) + matriks[1,:], decimals=2)\n",
    "    i += 1\n",
    "    print_iterasi(i, matriks)\n",
    "\n",
    "if matriks[2,0] != 0 and satu_utama_0:\n",
    "    matriks[2,:] = np.round(matriks[0,:] * (-matriks[2,0]) + matriks[2,:], decimals=2)\n",
    "    i += 1\n",
    "    print_iterasi(i, matriks)\n",
    "\n",
    "if matriks[1,1] != 0:\n",
    "    matriks[1,:] = np.round(matriks[1,:] * (1/matriks[1,1]), decimals=2)\n",
    "    i += 1\n",
    "    satu_utama_1 = True\n",
    "    print_iterasi(i, matriks)\n",
    "\n",
    "if matriks[2,1] != 0 and satu_utama_1:\n",
    "    matriks[2,:] = np.round(matriks[1,:] * (-matriks[2,1]) + matriks[2,:], decimals=2)\n",
    "    i += 1\n",
    "    print_iterasi(i, matriks)\n",
    "\n",
    "if matriks[2,2] != 0:\n",
    "    matriks[2,:] = np.round(matriks[2,:] * (1/matriks[2,2]), decimals=2)\n",
    "    i += 1\n",
    "    satu_utama_2 = True\n",
    "    print_iterasi(i, matriks)\n",
    "\n",
    "if matriks[1,2] != 0 and satu_utama_2:\n",
    "    matriks[1,:] = np.round(matriks[2,:] * (-matriks[1,2]) + matriks[1,:], decimals=2)\n",
    "    i += 1\n",
    "    print_iterasi(i, matriks)\n",
    "\n",
    "if matriks[0,2] != 0 and satu_utama_2:\n",
    "    matriks[0,:] = np.round(matriks[2,:] * (-matriks[0,2]) + matriks[0,:], decimals=2)\n",
    "    i += 1\n",
    "    print_iterasi(i, matriks)\n",
    "\n",
    "if matriks[0,1] != 0 and satu_utama_1:\n",
    "    matriks[0,:] = np.round(matriks[1,:] * (-matriks[0,1]) + matriks[0,:], decimals=2)\n",
    "    i += 1\n",
    "    print_iterasi(i, matriks)"
   ]
  },
  {
   "cell_type": "markdown",
   "id": "3a22e791",
   "metadata": {},
   "source": [
    "#### Cara Otomatis (library linalg)"
   ]
  },
  {
   "cell_type": "code",
   "execution_count": null,
   "id": "7ec584cc",
   "metadata": {},
   "outputs": [],
   "source": [
    "matriks_auto = np.linalg.solve(A, B)\n",
    "matriks_auto"
   ]
  }
 ],
 "metadata": {
  "kernelspec": {
   "display_name": "Python 3",
   "language": "python",
   "name": "python3"
  },
  "language_info": {
   "name": "python",
   "version": "3.13.2"
  }
 },
 "nbformat": 4,
 "nbformat_minor": 5
}
