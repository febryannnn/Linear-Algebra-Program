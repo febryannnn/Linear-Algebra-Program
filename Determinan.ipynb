{
 "cells": [
  {
   "cell_type": "markdown",
   "id": "0cee018d",
   "metadata": {},
   "source": [
    "### Determinan Matriks dengan Metode Segitiga Atas"
   ]
  },
  {
   "cell_type": "code",
   "execution_count": null,
   "id": "cadf65b3",
   "metadata": {},
   "outputs": [],
   "source": [
    "import numpy as np\n",
    "import re\n",
    "from sympy import symbols, Eq, sympify\n",
    "\n",
    "def parse_equations(equations):\n",
    "    variables = set(re.findall(r'[a-zA-Z]', ' '.join(equations)))\n",
    "    variables = sorted(variables)\n",
    "    symbols_dict = {var: symbols(var) for var in variables}\n",
    "    symbol_list = [symbols_dict[var] for var in variables]\n",
    "    coefficients = []\n",
    "    constants = []\n",
    "\n",
    "    for eq in equations:\n",
    "        lhs, rhs = eq.split('=')\n",
    "        lhs = sympify(lhs.strip(), locals=symbols_dict)\n",
    "        rhs = sympify(rhs.strip(), locals=symbols_dict)\n",
    "        equation = Eq(lhs, rhs)\n",
    "\n",
    "        coeff_row = [float(lhs.coeff(var).evalf()) for var in symbol_list]\n",
    "        coefficients.append(coeff_row)\n",
    "\n",
    "        constant = (rhs - lhs.subs({var: 0 for var in symbol_list})).evalf()\n",
    "        constants.append(float(constant))\n",
    "\n",
    "    A = np.array(coefficients, dtype=float)\n",
    "    B = np.array(constants, dtype=float).flatten()\n",
    "\n",
    "    return A, B"
   ]
  },
  {
   "cell_type": "markdown",
   "id": "42305d30",
   "metadata": {},
   "source": [
    "#### Input Equations"
   ]
  },
  {
   "cell_type": "code",
   "execution_count": null,
   "id": "29328eb4",
   "metadata": {},
   "outputs": [],
   "source": [
    "equations = [\n",
    "    \"3*x -6*y + 9*z = 0\",\n",
    "    \"0*x + 1*y + 5*z = 0\",\n",
    "    \"2*x + 6*y + 1*z = 0\",\n",
    "]\n",
    "\n",
    "A, B = parse_equations(equations)\n",
    "\n",
    "print(\"Matriks Koefisien (A):\")\n",
    "print(A)\n",
    "print(\"\\nMatriks Konstanta (B):\")\n",
    "print(B)"
   ]
  },
  {
   "cell_type": "markdown",
   "id": "7661a383",
   "metadata": {},
   "source": [
    "### Cara Manual"
   ]
  },
  {
   "cell_type": "code",
   "execution_count": null,
   "id": "16d330e9",
   "metadata": {},
   "outputs": [],
   "source": [
    "Ax = A.copy()\n",
    "Ay = A.copy()\n",
    "Az = A.copy()\n",
    "Ax[:,0] = B\n",
    "Ay[:,1] = B\n",
    "Az[:,2] = B\n",
    "    \n",
    "def segitiga_atas(matriks, determinan):\n",
    "    matriks = matriks.astype(np.float64)\n",
    "    n = matriks.shape[0]\n",
    "    i = 0\n",
    "\n",
    "    for col in range(n):\n",
    "        if matriks[col, col] == 0:\n",
    "            determinan = 0\n",
    "            return matriks, determinan\n",
    "\n",
    "        for row in range(col + 1, n):\n",
    "            if matriks[row, col] != 0:\n",
    "                factor = matriks[row, col] / matriks[col, col]\n",
    "                matriks[row, :] -= factor * matriks[col, :]\n",
    "                matriks[row, :] = np.round(matriks[row, :], decimals=2)\n",
    "                i += 1\n",
    "                print(f\"Iterasi {i} (row {row} - factor {factor:.2f}):\\n{matriks}\\n\")\n",
    "\n",
    "    determinan = np.prod(np.diag(matriks))\n",
    "    return matriks, determinan"
   ]
  },
  {
   "cell_type": "markdown",
   "id": "b3d16ed6",
   "metadata": {},
   "source": [
    "#### Hasil Determinan"
   ]
  },
  {
   "cell_type": "code",
   "execution_count": null,
   "id": "daf1a753",
   "metadata": {},
   "outputs": [],
   "source": [
    "A, determinan_A = segitiga_atas(A, -1)\n",
    "print(f\"\\nDeterminan A: {determinan_A}\")\n",
    "\n",
    "Ax, determinan_Ax = segitiga_atas(Ax, -1)\n",
    "print(f\"\\nDeterminan Ax: {determinan_Ax}\")\n",
    "\n",
    "Ay, determinan_Ay = segitiga_atas(Ay, -1)\n",
    "print(f\"\\nDeterminan Ay: {determinan_Ay}\")\n",
    "\n",
    "Az, determinan_Az = segitiga_atas(Az, -1)\n",
    "print(f\"\\nDeterminan Az: {determinan_Az}\")"
   ]
  },
  {
   "cell_type": "markdown",
   "id": "e1f557d1",
   "metadata": {},
   "source": [
    "### Cara otomatis"
   ]
  },
  {
   "cell_type": "code",
   "execution_count": null,
   "id": "1aeda6cb",
   "metadata": {},
   "outputs": [],
   "source": [
    "determinan_auto_A = np.linalg.det(A)\n",
    "determinan_auto_Ax = np.linalg.det(Ax)\n",
    "determinan_auto_Ay = np.linalg.det(Ay)\n",
    "determinan_auto_Az = np.linalg.det(Az)\n",
    "\n",
    "print(f\"Determinan A: {determinan_auto_A}\")\n",
    "print(f\"Determinan Ax: {determinan_auto_Ax}\")\n",
    "print(f\"Determinan Ay: {determinan_auto_Ay}\")\n",
    "print(f\"Determinan Az: {determinan_auto_Az}\")"
   ]
  },
  {
   "cell_type": "markdown",
   "id": "ffd5a464",
   "metadata": {},
   "source": [
    "### Nilai (x,y,z)"
   ]
  },
  {
   "cell_type": "code",
   "execution_count": null,
   "id": "f0a74925",
   "metadata": {},
   "outputs": [],
   "source": [
    "x = determinan_Ax / determinan_A\n",
    "y = determinan_Ay / determinan_A\n",
    "z = determinan_Az / determinan_A\n",
    "print(f\"Nilai x: {x}\")\n",
    "print(f\"Nilai y: {y}\")\n",
    "print(f\"Nilai z: {z}\")"
   ]
  }
 ],
 "metadata": {
  "language_info": {
   "name": "python"
  }
 },
 "nbformat": 4,
 "nbformat_minor": 5
}
